{
 "cells": [
  {
   "cell_type": "markdown",
   "metadata": {},
   "source": [
    "# Modeling the spatiotemporal control of cell cycle acceleration during axolotl spinal cord regeneration\n",
    "\n",
    "Emanuel Cura Costa<sup>1</sup>, Aida Rodrigo Albors<sup>2</sup>, Elly M. Tanaka<sup>3</sup> and Osvaldo Chara<sup>1,4*</sup>\n",
    "\n",
    "<sup>1</sup> Systems Biology Group, Institute of Physics of Liquids and Biological Systems, National Scientific and Technical Research Council, University of La Plata, La Plata, Argentina.<br>\n",
    "<sup>2</sup> Neural Development Group, Division of Cell and Developmental Biology, School of Life Sciences, University of Dundee, Dow Street, Dundee DD1 5EH, UK.<br>\n",
    "<sup>3</sup> The Research Institute of Molecular Pathology (IMP), Vienna Biocenter (VBC), Vienna, Austria.<br>\n",
    "<sup>4</sup> Center for Information Services and High Performance Computing, Technische Universität Dresden, Dresden, Germany.<br>\n",
    "\n",
    "#### Corresponding author:\n",
    "Osvaldo Chara\n",
    "\n",
    "Center for Information Services and High Performance Computing (ZIH), Technische Universität Dresden, Nöthnitzer Straße 46, 01187 Dresden, Germany.<br> \n",
    "Tel. +49 351 463-38780, E-mail: osvaldo.chara@tu-dresden.de\n",
    "\n",
    "Systems Biology Group (SysBio), Institute of Physics of Liquids and Biological Systems (IFLySIB), National Scientific and Technical Research Council (CONICET) and University of La Plata, Calle 59 N 789, 1900 La Plata, Argentina.<br>\n",
    "Tel. +54 221 4233283 Ext: 26, E-mail: ochara@iflysib.unlp.edu.ar\n",
    "\n",
    "Web: http://sysbioiflysib.wordpress.com/"
   ]
  },
  {
   "cell_type": "markdown",
   "metadata": {},
   "source": [
    "## Introduction\n",
    "\n",
    "These notebook contains the source code for simulations and data analysis performed for Cura Costa et al., 2019a. \n",
    "You should note that some calculations will take too much time to run. The code is only partly documented. If you have questions concerning the code, please contact the authors.\n",
    "\n",
    "Please also make sure you visited https://gitlab.com/ecuracosta/spatiotemporal-distribution-of-the-signaling-mechanism-driving-spinal-cord-regeneration-in-the-axolotl to make sure you have the latest version of the notebooks and for getting instructions how to view them and/or get them running.\n",
    "\n",
    "## List of notebooks\n",
    "\n",
    "* [Recruitment_limit](main/Simulating_recruitment_limit.ipynb):\n",
    "    * Recruitment limit simulations\n",
    "* [Recruitment_limit_fitting](main/Fitting_recruitment_limit.ipynb)\n",
    "    * Performing parameters fitting ($N_0$, $\\lambda$ and $\\tau$) to experimental recruitment limit\n",
    "* [Recruitment_limit_best_fit](figures/Fig_2A.ipynb):\n",
    "    * Fig. 2A\n",
    "* [Proportional_mapping_of_S_and_partial_synchronization_of_G1_model_simulations](main/Simulating_proportional_mapping_of_S_and_partial_synchronization_of_G1_model.ipynb):\n",
    "    * Model simulations with fitted parameters\n",
    "* [Proportional_mapping_of_S_and_partial_synchronization_of_G1_model_prediction](figures/Fig_2B.ipynb):\n",
    "    * Fig. 2B\n",
    "* [Cell_recruitment_impediment](main/Simulating_cell_recruitment_impediment.ipynb):\n",
    "    * Cell recruitment impeded simulations\n",
    "* [Cell_recruitment_impediment_model_prediction](figures/Fig_2C.ipynb):\n",
    "    * Fig. 2C\n",
    "* [Predicted_clone_trajectories](figures/Fig_3A.ipynb):\n",
    "    * Clones position tracked in time\n",
    "    * Fig. 3A\n",
    "* [Predicted_clone_velocities](figures/Fig_3B.ipynb):\n",
    "    * Clones velocities at different AP positions\n",
    "    * Fig. 3B\n",
    "* [Predicted_normalized_trajectories](figures/Fig_3C.ipynb):\n",
    "    * Clones position scaling behavior \n",
    "    * Fig. 3C   \n",
    "* [Proportional_mapping_of_S_and_partial_synchronization_of_G1_model(reducing_G1_phase_only)](alternative_models/Simulating_proportional_mapping_of_S_and_partial_synchronization_of_G1_model(reducing_G1_phase_only).ipynb):\n",
    "    * Model simulations reducing G1 phase and not reducing S phase\n",
    "* [Proportional_mapping_of_S_and_partial_synchronization_of_G1_model(reducing_S_phase_only)](alternative_models/Simulating_proportional_mapping_of_S_and_partial_synchronization_of_G1_model(reducing_S_phase_only).ipynb):\n",
    "    * Model simulations reducing S phase and not reducing G1 phase\n",
    "* [S_dominates_spinal_cord_outgrowth_regardless_of_the_mechanism_B](figures/Fig_4.ipynb):\n",
    "    * Fig. 4\n",
    "* [Space-time distribution of cell proliferation](figures/Fig_S1A.ipynb):\n",
    "    * Fig. S1A        \n",
    "* [Model_prediction_tau=0_days](alternative_models/Simulating_proportional_mapping_of_S_and_partial_synchronization_of_G1_model-tau=0.ipynb):\n",
    "    * Model simulations with $\\tau = 0$ days\n",
    "* [Model_prediction_tau=8_days](alternative_models/Simulating_proportional_mapping_of_S_and_partial_synchronization_of_G1_model-tau=8.ipynb):\n",
    "    * Model simulations with $\\tau = 8$ days\n",
    "* [Tau_extreme_values_prediction](figures/Fig_S2A.ipynb):\n",
    "    * Fig. S2A   \n",
    "* [Model_prediction_lambda=0_um](alternative_models/Simulating_proportional_mapping_of_S_and_partial_synchronization_of_G1_model-lamda=0.ipynb):\n",
    "    * Model simulations with $\\lambda = 0$ $\\mu$m\n",
    "* [Model_prediction_lambda=-1575_um](alternative_models/Simulating_proportional_mapping_of_S_and_partial_synchronization_of_G1_model-lamda=1575.ipynb):\n",
    "    * Model simulations with $\\lambda = 1575$ $\\mu$m\n",
    "* [Lambda_extreme_values_prediction](figures/Fig_S2B.ipynb):\n",
    "    * Fig. S2B"
   ]
  }
 ],
 "metadata": {
  "kernelspec": {
   "display_name": "Python 3",
   "language": "python",
   "name": "python3"
  },
  "language_info": {
   "codemirror_mode": {
    "name": "ipython",
    "version": 3
   },
   "file_extension": ".py",
   "mimetype": "text/x-python",
   "name": "python",
   "nbconvert_exporter": "python",
   "pygments_lexer": "ipython3",
   "version": "3.8.0"
  }
 },
 "nbformat": 4,
 "nbformat_minor": 2
}
