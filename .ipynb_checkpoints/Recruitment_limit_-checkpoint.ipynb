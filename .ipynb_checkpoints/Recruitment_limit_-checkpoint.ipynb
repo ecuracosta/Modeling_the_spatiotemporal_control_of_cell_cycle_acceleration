{
 "cells": [
  {
   "cell_type": "markdown",
   "metadata": {},
   "source": [
    "# Switchpoint fitting"
   ]
  },
  {
   "cell_type": "code",
   "execution_count": 1,
   "metadata": {},
   "outputs": [],
   "source": [
    "import os\n",
    "import pandas as pd\n",
    "import numpy as np\n",
    "from scipy import stats"
   ]
  },
  {
   "cell_type": "code",
   "execution_count": 2,
   "metadata": {},
   "outputs": [],
   "source": [
    "sp_time = [4, 6, 8]\n",
    "exp_sp_limSup = [-924, -781, -448]\n",
    "exp_sp_limInf = [-663, -500, -73]\n",
    "exp_sp_mean = [-794, -641, -261]"
   ]
  },
  {
   "cell_type": "code",
   "execution_count": 3,
   "metadata": {},
   "outputs": [],
   "source": [
    "exp_sp = exp_sp_mean\n",
    "\n",
    "root = '/home/ecuracosta/Desktop/MS/Simulations/Switchpoint/'\n",
    "os.chdir(root)\n",
    "\n",
    "penalty = 1.25\n",
    "dt_u = 1\n",
    "\n",
    "n0_array = np.arange(100,301,1)    # Number of cells after amputation\n",
    "rl_array = -np.arange(500,1505,5)    # Recruitment limit\n",
    "\n",
    "heatmap = pd.DataFrame(index=n0_array, columns=rl_array)\n",
    "\n",
    "for n0 in n0_array:\n",
    "    for rl in rl_array:\n",
    "        df_all = []\n",
    "        parameters_set = \"n0=\"+str(n0)+\"_rl=\"+str(rl)\n",
    "        files = os.listdir(parameters_set)\n",
    "        for seed in files:\n",
    "            opened_file = open(parameters_set+\"/\"+seed)\n",
    "            df0 = pd.read_csv(opened_file, delimiter=',')\n",
    "            outgrowth = df0['outgrowth']*13.2\n",
    "            df_all.append(outgrowth)\n",
    "        df_all = pd.concat(df_all, ignore_index=True, axis=1)\n",
    "        df_mean = np.asarray(df_all.mean(axis=1))\n",
    "        df_std = np.asarray(df_all.std(axis=1))\n",
    "        ssqi2 = []\n",
    "        for outgrowth,time in zip(exp_sp,sp_time):\n",
    "            if not df_mean[time*24]-dt_u*df_std[time*24] < outgrowth < df_mean[time*24]+dt_u*df_std[time*24]:\n",
    "                ssqi2.append(abs(df_mean[time*24]-outgrowth)*penalty)\n",
    "            else:\n",
    "                ssqi2.append(abs(df_mean[time*24]-outgrowth))\n",
    "        ssq2 = sum(ssqi2)\n",
    "        heatmap[rl][n0] = ssq2"
   ]
  },
  {
   "cell_type": "code",
   "execution_count": 4,
   "metadata": {},
   "outputs": [
    {
     "name": "stdout",
     "output_type": "stream",
     "text": [
      "-1045 , 205\n"
     ]
    }
   ],
   "source": [
    "print(heatmap.min(axis=0).idxmin(),',',heatmap.min(axis=1).idxmin())\n",
    "heatmap.to_csv('/home/ecuracosta/Desktop/MS/Scripts/Fitting/Switchpoint_fit.csv')"
   ]
  }
 ],
 "metadata": {
  "kernelspec": {
   "display_name": "Python 3",
   "language": "python",
   "name": "python3"
  },
  "language_info": {
   "codemirror_mode": {
    "name": "ipython",
    "version": 3
   },
   "file_extension": ".py",
   "mimetype": "text/x-python",
   "name": "python",
   "nbconvert_exporter": "python",
   "pygments_lexer": "ipython3",
   "version": "3.7.3"
  }
 },
 "nbformat": 4,
 "nbformat_minor": 2
}
