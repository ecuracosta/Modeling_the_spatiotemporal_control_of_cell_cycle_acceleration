{
 "cells": [
  {
   "cell_type": "markdown",
   "metadata": {},
   "source": [
    "# AP border fitting (pyABC)"
   ]
  },
  {
   "cell_type": "code",
   "execution_count": null,
   "metadata": {},
   "outputs": [],
   "source": [
    "# required libraries\n",
    "import pandas as pd\n",
    "import numpy as np\n",
    "from pyabc import (Distribution, RV, ABCSMC, DiscreteRandomWalkTransition, History)"
   ]
  },
  {
   "cell_type": "code",
   "execution_count": null,
   "metadata": {},
   "outputs": [],
   "source": [
    "# Experimental data\n",
    "outgrowth_df = pd.read_csv('./'+'outgrowth.csv')\n",
    "outgrowth_df.set_index(['day', 'tail'], inplace=True)\n",
    "outgrowth_mean = outgrowth_df.groupby('day').mean()['outgrowth']\n",
    "\n",
    "percentage_df = pd.read_csv('./'+'percentage_100um.csv')\n",
    "df = percentage_df\n",
    "for day in range(0,6):\n",
    "    df.loc[df['day'] == day, 'position'] = (outgrowth_mean[day] - (df.loc[df['day'] == day, 'position']-100)).astype(int)\n",
    "percentage_df = df\n",
    "percentage_df.set_index(['day', 'tail', 'position'], inplace=True)\n",
    "percentage_df = percentage_df.drop(['unlabelled'], axis=1)\n",
    "experiments = percentage_df\n",
    "experiments.drop(['double','mitosis'], axis=1)"
   ]
  },
  {
   "cell_type": "code",
   "execution_count": null,
   "metadata": {},
   "outputs": [],
   "source": [
    "# Measured AP positions\n",
    "pos_list = np.arange(-1700,1000,100)"
   ]
  },
  {
   "cell_type": "code",
   "execution_count": null,
   "metadata": {},
   "outputs": [],
   "source": [
    "# Two zones model definition\n",
    "def model(pars):\n",
    "    \n",
    "    c1g = int(pars[\"c1g\"])\n",
    "    c2g = int(pars[\"c2g\"])\n",
    "    c1m = int(pars[\"c1m\"])\n",
    "    c2m = int(pars[\"c2m\"])\n",
    "    sp = int(pars[\"sp\"])\n",
    "    \n",
    "    intensity_g_array = []\n",
    "    intensity_m_array = []\n",
    "    for pos in pos_list:     \n",
    "        if pos <= sp:\n",
    "            intensity_g = c1g\n",
    "            intensity_m = c1m\n",
    "        else:\n",
    "            intensity_g = c2g\n",
    "            intensity_m = c2m\n",
    "        intensity_g_array.append(intensity_g)\n",
    "        intensity_m_array.append(intensity_m)\n",
    "    return {'intensity':[intensity_g_array,intensity_m_array]}"
   ]
  },
  {
   "cell_type": "code",
   "execution_count": null,
   "metadata": {},
   "outputs": [],
   "source": [
    "# Parameters priors\n",
    "c1gmin, c1gmax = 0, 100\n",
    "c2gmin, c2gmax = 0, 100\n",
    "c1mmin, c1mmax = 0, 100\n",
    "c2mmin, c2mmax = 0, 100\n",
    "spmin, spmax = -1800, 1000"
   ]
  },
  {
   "cell_type": "code",
   "execution_count": null,
   "metadata": {},
   "outputs": [],
   "source": [
    "parameter_priors = Distribution(c1g=RV(\"randint\", c1gmin, c1gmax-c1gmin),\n",
    "                                c2g=RV(\"randint\", c2gmin, c2gmax-c2gmin),\n",
    "                                c1m=RV(\"randint\", c1mmin, c1mmax-c1mmin),\n",
    "                                c2m=RV(\"randint\", c2mmin, c2mmax-c2mmin),\n",
    "                                 sp=RV(\"randint\", spmin, spmax-spmin))"
   ]
  },
  {
   "cell_type": "code",
   "execution_count": null,
   "metadata": {},
   "outputs": [],
   "source": [
    "# Measured data to be compared with simulations\n",
    "def measurement_data(day,tail):\n",
    "    green_mean = np.asarray(percentage_df.xs(day,level='day').xs(tail,level='tail')['green'])\n",
    "    magenta_mean = np.asarray(percentage_df.xs(day,level='day').xs(tail,level='tail')['magenta'])\n",
    "    return [green_mean,magenta_mean]"
   ]
  },
  {
   "cell_type": "code",
   "execution_count": null,
   "metadata": {},
   "outputs": [],
   "source": [
    "# Distances funcition definition\n",
    "def distance(simulation, data):\n",
    "    distance_value = np. array([])\n",
    "    for sim_g,sim_m,exp_g,exp_m in zip(simulation[\"intensity\"][0],simulation[\"intensity\"][1],data[\"intensity\"][0],data[\"intensity\"][1]):\n",
    "        distance_value = np. append(distance_value,np.sqrt((exp_g-sim_g)**2) + np.sqrt((exp_m-sim_m)**2))\n",
    "    return np.nansum(distance_value)"
   ]
  },
  {
   "cell_type": "code",
   "execution_count": null,
   "metadata": {},
   "outputs": [],
   "source": [
    "# Run parameters\n",
    "abc = ABCSMC(models=model,\n",
    "             parameter_priors=parameter_priors,\n",
    "             distance_function=distance,\n",
    "             population_size=1000,\n",
    "             transitions=DiscreteRandomWalkTransition())"
   ]
  },
  {
   "cell_type": "code",
   "execution_count": null,
   "metadata": {
    "scrolled": false
   },
   "outputs": [],
   "source": [
    "# Fitting for each animal tail and day\n",
    "maxiter = 30\n",
    "for day,df_day in percentage_df.groupby(level='day'):\n",
    "    for tail,df_animal in df_day.groupby(level='tail'):\n",
    "        db_path = (\"sqlite:///\" + os.path.join(\"./fitting_results/\",\n",
    "                                               \"sp_fitting-day=\"+str(day)+\"-tail=\"+str(tail)+\"_ap.db\"))\n",
    "        abc.new(db_path, {\"intensity\": measurement_data(day,tail)})\n",
    "        h = abc.run(minimum_epsilon=0.1, max_nr_populations=maxiter)"
   ]
  }
 ],
 "metadata": {
  "kernelspec": {
   "display_name": "Python 3",
   "language": "python",
   "name": "python3"
  },
  "language_info": {
   "codemirror_mode": {
    "name": "ipython",
    "version": 3
   },
   "file_extension": ".py",
   "mimetype": "text/x-python",
   "name": "python",
   "nbconvert_exporter": "python",
   "pygments_lexer": "ipython3",
   "version": "3.9.1"
  }
 },
 "nbformat": 4,
 "nbformat_minor": 4
}
