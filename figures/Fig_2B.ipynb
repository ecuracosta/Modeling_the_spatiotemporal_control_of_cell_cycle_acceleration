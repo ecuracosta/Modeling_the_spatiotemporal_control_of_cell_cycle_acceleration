{
 "cells": [
  {
   "cell_type": "markdown",
   "metadata": {},
   "source": [
    "# Figure 2B"
   ]
  },
  {
   "cell_type": "code",
   "execution_count": 1,
   "metadata": {},
   "outputs": [],
   "source": [
    "import os\n",
    "import pandas as pd\n",
    "import numpy as np\n",
    "import matplotlib.pyplot as plt\n",
    "plt.style.use('ggplot')\n",
    "%matplotlib inline"
   ]
  },
  {
   "cell_type": "code",
   "execution_count": 2,
   "metadata": {},
   "outputs": [],
   "source": [
    "def plot_create():\n",
    "    plt.title('Best fitting model simulations', y=1.05, size=30)\n",
    "    exp_time = [4, 6, 8]\n",
    "    exp_sp = [-800, -640, -280]\n",
    "    exp_err = [-130, -140, -187]\n",
    "\n",
    "    # Experimental switchpoint\n",
    "    ax.errorbar(exp_time , exp_sp, yerr=exp_err, color='black',ecolor='black', fmt='o',markersize=11,elinewidth=3, label='Experimental switchpoint')\n",
    "    \n",
    "    ax.legend(loc='upper left', facecolor='white')\n",
    "    plt.xlabel('Time (days)')\n",
    "    plt.ylabel('AP Position' + ' (' + r'$\\mu$'+'m)')\n",
    "    plt.xlim(-0.2,8.2)  \n",
    "    fig.set_size_inches(18.5, 12.5)\n",
    "    plt.rcParams.update({'font.size': 32})\n",
    "    filename = \"../../Plots/\" + \"Fig_2B.png\"\n",
    "    fig.savefig(filename, dpi=300)"
   ]
  },
  {
   "cell_type": "code",
   "execution_count": 3,
   "metadata": {},
   "outputs": [
    {
     "ename": "FileNotFoundError",
     "evalue": "[Errno 2] No such file or directory: '../../Simulations/Switchpoint/n0=205_rl=-1045'",
     "output_type": "error",
     "traceback": [
      "\u001b[0;31m---------------------------------------------------------------------------\u001b[0m",
      "\u001b[0;31mFileNotFoundError\u001b[0m                         Traceback (most recent call last)",
      "\u001b[0;32m<ipython-input-3-7ff053a463c1>\u001b[0m in \u001b[0;36m<module>\u001b[0;34m\u001b[0m\n\u001b[1;32m      6\u001b[0m \u001b[0;34m\u001b[0m\u001b[0m\n\u001b[1;32m      7\u001b[0m \u001b[0mdf_all\u001b[0m \u001b[0;34m=\u001b[0m \u001b[0;34m[\u001b[0m\u001b[0;34m]\u001b[0m\u001b[0;34m\u001b[0m\u001b[0;34m\u001b[0m\u001b[0m\n\u001b[0;32m----> 8\u001b[0;31m \u001b[0mfiles\u001b[0m \u001b[0;34m=\u001b[0m \u001b[0mos\u001b[0m\u001b[0;34m.\u001b[0m\u001b[0mlistdir\u001b[0m\u001b[0;34m(\u001b[0m\u001b[0mroot\u001b[0m\u001b[0;34m+\u001b[0m\u001b[0;34m\"/\"\u001b[0m\u001b[0;34m+\u001b[0m\u001b[0mparameters_set\u001b[0m\u001b[0;34m)\u001b[0m\u001b[0;34m\u001b[0m\u001b[0;34m\u001b[0m\u001b[0m\n\u001b[0m\u001b[1;32m      9\u001b[0m \u001b[0mordered_files\u001b[0m \u001b[0;34m=\u001b[0m \u001b[0msorted\u001b[0m\u001b[0;34m(\u001b[0m\u001b[0mfiles\u001b[0m\u001b[0;34m)\u001b[0m\u001b[0;34m\u001b[0m\u001b[0;34m\u001b[0m\u001b[0m\n\u001b[1;32m     10\u001b[0m \u001b[0;32mfor\u001b[0m \u001b[0mseed\u001b[0m \u001b[0;32min\u001b[0m \u001b[0mordered_files\u001b[0m\u001b[0;34m:\u001b[0m\u001b[0;34m\u001b[0m\u001b[0;34m\u001b[0m\u001b[0m\n",
      "\u001b[0;31mFileNotFoundError\u001b[0m: [Errno 2] No such file or directory: '../../Simulations/Switchpoint/n0=205_rl=-1045'"
     ]
    }
   ],
   "source": [
    "n0 = 205\n",
    "rl = -1045\n",
    "\n",
    "root = '../../Simulations/Switchpoint/'\n",
    "parameters_set = \"n0=\"+str(n0)+\"_rl=\"+str(rl)\n",
    "\n",
    "df_all = []\n",
    "files = os.listdir(root+\"/\"+parameters_set)\n",
    "ordered_files = sorted(files)\n",
    "for seed in ordered_files:    \n",
    "    opened_file = open(root+parameters_set+\"/\"+seed)\n",
    "    df0 = pd.read_csv(opened_file, delimiter=',')\n",
    "    outgrowth = df0['outgrowth']*13.2\n",
    "    df_all.append(outgrowth)\n",
    "df_all = pd.concat(df_all, ignore_index=True, axis=1)\n",
    "df_mean = np.asarray(df_all.mean(axis=1))\n",
    "df_std = np.asarray(df_all.std(axis=1))\n",
    "time = df0['time']/24\n",
    "\n",
    "\n",
    "# Model simulations\n",
    "fig = plt.figure()\n",
    "ax = fig.add_subplot(111)\n",
    "ax.plot(time, df_mean, color='g', label='Recruitment limit '+r'$\\xi(t)$')\n",
    "ax.fill_between(time, df_mean-df_std, df_mean+df_std, facecolor='g', alpha=0.2)\n",
    "ax.fill_between(time, df_mean-2*df_std, df_mean+2*df_std, where=(df_mean-2*df_std)<(df_mean-df_std), facecolor='g', alpha=0.2)\n",
    "#ax.fill_between(time, df_mean-3*df_std, df_mean+3*df_std, facecolor='g', alpha=0.2)\n",
    "\n",
    "plot_create()"
   ]
  },
  {
   "cell_type": "code",
   "execution_count": null,
   "metadata": {},
   "outputs": [],
   "source": []
  }
 ],
 "metadata": {
  "kernelspec": {
   "display_name": "Python 3",
   "language": "python",
   "name": "python3"
  },
  "language_info": {
   "codemirror_mode": {
    "name": "ipython",
    "version": 3
   },
   "file_extension": ".py",
   "mimetype": "text/x-python",
   "name": "python",
   "nbconvert_exporter": "python",
   "pygments_lexer": "ipython3",
   "version": "3.7.3"
  }
 },
 "nbformat": 4,
 "nbformat_minor": 1
}
