{
 "cells": [
  {
   "cell_type": "markdown",
   "metadata": {},
   "source": [
    "# No regeneration"
   ]
  },
  {
   "cell_type": "code",
   "execution_count": 1,
   "metadata": {},
   "outputs": [],
   "source": [
    "import numpy as np\n",
    "import os,sys\n",
    "import pandas as pd\n",
    "import time\n",
    "import random"
   ]
  },
  {
   "cell_type": "code",
   "execution_count": 2,
   "metadata": {},
   "outputs": [],
   "source": [
    "def cellDivisions(tm,td,ts,stem,positions):\n",
    "    global n\n",
    "    for dividingCell in range(0,n):\n",
    "        tc = ts - tm[dividingCell]\n",
    "        tr = td[dividingCell] - tc\n",
    "        if tr < 1/3600:\n",
    "            tm[dividingCell] = ts\n",
    "            tm = np.insert(tm,dividingCell,ts)\n",
    "            tm = tm[:-1]            \n",
    "            n = n+1\n",
    "            positions = np.insert(positions,dividingCell,-1)\n",
    "            td[dividingCell] = np.random.normal(340, 32)\n",
    "            td = np.insert(td,dividingCell,np.random.normal(340, 32))\n",
    "            td = td[:-1]               \n",
    "    return tm,td,stem,positions"
   ]
  },
  {
   "cell_type": "code",
   "execution_count": 3,
   "metadata": {},
   "outputs": [],
   "source": [
    "def run(steps,tm,td,stem,positions):\n",
    "    global n\n",
    "    outgrowth = []\n",
    "    tracking = []\n",
    "    tracking.append(positions)\n",
    "    for ts in range(0,steps+1,1):\n",
    "        tm,td,stem,positions = cellDivisions(tm,td,ts,stem,positions)\n",
    "        outgrowth.append(n-n0)    # Appends the outgrowth for each time\n",
    "        tracking.append(positions)\n",
    "    return outgrowth,tracking"
   ]
  },
  {
   "cell_type": "code",
   "execution_count": 4,
   "metadata": {},
   "outputs": [
    {
     "name": "stdout",
     "output_type": "stream",
     "text": [
      "n0: 205\n",
      "Total time: 8.649936437606812 seconds <--\n"
     ]
    }
   ],
   "source": [
    "root = '/home/ecuracosta/Desktop/MS/Simulations/No_regeneration/'\n",
    "os.chdir(root)\n",
    "\n",
    "start_time = time.time() \n",
    "\n",
    "emptySpace = 250\n",
    "steps = 24*8    # Number of steaps (in hours)\n",
    "n0 = 205    # Number of cells after amputation\n",
    "\n",
    "lattice = n0+emptySpace   \n",
    "folder = 'n0='+str(n0)\n",
    "os.makedirs(folder)\n",
    "print('n0:',n0)\n",
    "for seed in range(0,200):\n",
    "    n = n0\n",
    "    positions = np.arange(0,n0) \n",
    "    tm = np.random.uniform(-(340-2*32),0,lattice)\n",
    "    td = np.random.normal(340,32,lattice)\n",
    "    stem = np.zeros(lattice)\n",
    "    solution,track = run(steps,tm,td,stem,positions)\n",
    "\n",
    "    d = {\"time\":np.arange(0,steps+1),\"outgrowth\":solution}\n",
    "    df = pd.DataFrame(d)\n",
    "    outfile = open(str(root)+str(folder)+'/'+'sim_seed='+str(seed)+'.csv', 'a')\n",
    "    df.to_csv(outfile, sep=',')\n",
    "    outfile.close()\n",
    "\n",
    "print(\"Total time: %s seconds <--\" % (time.time() - start_time))"
   ]
  }
 ],
 "metadata": {
  "kernelspec": {
   "display_name": "Python 3",
   "language": "python",
   "name": "python3"
  },
  "language_info": {
   "codemirror_mode": {
    "name": "ipython",
    "version": 3
   },
   "file_extension": ".py",
   "mimetype": "text/x-python",
   "name": "python",
   "nbconvert_exporter": "python",
   "pygments_lexer": "ipython3",
   "version": "3.7.2"
  }
 },
 "nbformat": 4,
 "nbformat_minor": 2
}
