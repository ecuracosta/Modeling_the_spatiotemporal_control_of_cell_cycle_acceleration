{
 "cells": [
  {
   "cell_type": "markdown",
   "metadata": {},
   "source": [
    "# FUCCI video"
   ]
  },
  {
   "cell_type": "code",
   "execution_count": 1,
   "metadata": {},
   "outputs": [],
   "source": [
    "import os\n",
    "import pandas as pd\n",
    "import numpy as np\n",
    "import matplotlib.pyplot as plt\n",
    "from collections import Counter"
   ]
  },
  {
   "cell_type": "code",
   "execution_count": 2,
   "metadata": {},
   "outputs": [],
   "source": [
    "intervals = (\n",
    "    ('days', 86400),    \n",
    "    ('hours', 3600),    \n",
    "    ('minutes', 60),\n",
    "    ('seconds', 1),\n",
    "    )\n",
    "\n",
    "def display_time(seconds, granularity=2):\n",
    "    result = []\n",
    "\n",
    "    for name, count in intervals:\n",
    "        value = seconds // count\n",
    "        if value:\n",
    "            seconds -= value * count\n",
    "            if value == 1:\n",
    "                name = name.rstrip('s')\n",
    "            result.append(\"{} {}\".format(value, name))\n",
    "    return ', '.join(result[:granularity])"
   ]
  },
  {
   "cell_type": "code",
   "execution_count": 3,
   "metadata": {},
   "outputs": [],
   "source": [
    "def plot_create(t):\n",
    "    ax1.set_xlabel('Time (days)')\n",
    "    ax1.set_xlabel('AP position' + ' (' + r'$\\mu$'+'m)')\n",
    "    ax1.set_ylabel('Seed number')\n",
    "    ax1.set_xlim(-2000,1100)\n",
    "    ax1.set_ylim(-1,20)         \n",
    "    ax1.set_yticks([ 0,  4, 9, 14, 19])\n",
    "    ax1.set_yticklabels([ 1,  5, 10, 15, 20])\n",
    "    plt.title('time = ' + str(display_time(t*60*60)))\n",
    "    plt.tight_layout()\n",
    "    filename = \"./video2/\" + str(t).zfill(3) +\".png\"    \n",
    "    plt.rcParams.update({'font.size': 6})\n",
    "    ax1.set_aspect(aspect=50)\n",
    "    plt.savefig(filename, dpi=300)"
   ]
  },
  {
   "cell_type": "code",
   "execution_count": 4,
   "metadata": {},
   "outputs": [],
   "source": [
    "n0_mean,n0_std = 196,2 # n0 mean and standar deviation\n",
    "l_mean,l_std = 828,30      # lambda mean and standar deviation\n",
    "tau_mean,tau_std = 85,12   # tau mean and standar deviation\n",
    "parameters = 'n0='+str(n0_mean)+'\\n'+'l='+str(l_mean)+'\\n'+'tau='+str(tau_mean)+'/'\n",
    "\n",
    "root = \"./main/simulations/\"\n",
    "model = 'switchpoint/'\n",
    "path = root+model+parameters\n",
    "\n",
    "files = os.listdir(path)\n",
    "all_seeds = []\n",
    "for seed in files:    \n",
    "    opened_file = open(path+seed)\n",
    "    data = pd.read_csv(opened_file, delimiter=',')\n",
    "    outgrowth = data['0']\n",
    "    all_seeds.append(outgrowth)\n",
    "all_seeds = pd.concat(all_seeds, ignore_index=True, axis=1)\n",
    "switchpoint_mean = np.asarray(all_seeds.mean(axis=1))\n",
    "switchpoint_std = np.asarray(all_seeds.std(axis=1))\n",
    "switchpoint_time = outgrowth.index/24\n",
    "\n",
    "root = \"./main/simulations/\"\n",
    "model = 'outgrowth3/'\n",
    "path = root+model+parameters\n",
    "\n",
    "files = os.listdir(path)\n",
    "best = {}\n",
    "for seed in files:    \n",
    "    opened_file = open(path+seed)\n",
    "    data = pd.read_csv(opened_file, delimiter=',')\n",
    "    data.set_index(['time', 'id'], inplace=True)\n",
    "    proportion = (data.xs(0,level='time').groupby('phase').count().loc['G1'].iloc[0]+data.xs(0,level='time').groupby('phase').count().loc['G0'].iloc[0])/len(data.xs(0,level='time')['phase'])\n",
    "    best[seed] = proportion\n",
    "files = list(pd.DataFrame.from_dict(best,orient='index').sort_values(0,ascending=False)[:20].index) \n",
    "\n",
    "all_seeds = []\n",
    "for seed in files:    \n",
    "    opened_file = open(path+seed)\n",
    "    data = pd.read_csv(opened_file, delimiter=',')\n",
    "    data.set_index(['time', 'id'], inplace=True)\n",
    "    outgrowth = data.groupby(level='time')['position'].max()\n",
    "    all_seeds.append(outgrowth)\n",
    "all_seeds = pd.concat(all_seeds, ignore_index=True, axis=1)\n",
    "outgrowth_mean = np.asarray(all_seeds.mean(axis=1))\n",
    "outgrowth_max = np.asarray(all_seeds.max(axis=1))\n",
    "outgrowth_mean = outgrowth_mean[np.logical_not(np.isnan(outgrowth_mean))]\n",
    "outgrowth_std = np.asarray(all_seeds.std(axis=1))\n",
    "outgrowth_std = outgrowth_std[np.logical_not(np.isnan(outgrowth_std))]\n",
    "outgrowth_time = outgrowth.index/24"
   ]
  },
  {
   "cell_type": "code",
   "execution_count": 9,
   "metadata": {},
   "outputs": [
    {
     "data": {
      "image/png": "[encoded data removed]",
      "text/plain": [
       "<Figure size 432x288 with 1 Axes>"
      ]
     },
     "metadata": {
      "needs_background": "light"
     },
     "output_type": "display_data"
    }
   ],
   "source": [
    "fig = plt.figure()\n",
    "ax1 = fig.add_subplot()\n",
    "times = np.arange(0,121)\n",
    "\n",
    "positions = []\n",
    "files = os.listdir(path)\n",
    "for t in times:\n",
    "    for i in range(0,20):\n",
    "        phases_count = {}        \n",
    "        opened_file = open(path+'/'+str(files[i]))\n",
    "        data = pd.read_csv(opened_file, delimiter=',')\n",
    "        data.set_index(['time', 'id'], inplace=True)\n",
    "        data = data.xs(t,level='time')\n",
    "        data.loc[data.phase == 'G1', 'phase'] = 'lime'\n",
    "        data.loc[data.phase == 'S', 'phase'] = 'magenta'\n",
    "        data.loc[(data.phase != 'lime') & (data.phase != 'magenta'), 'phase'] = 'gray'        \n",
    "        ax1.scatter(data.position, [i]*len(data.position), s=24, color=data['phase'],edgecolors='white',linewidths=0.1)\n",
    "    ax1.axvline(x=0, color='black', linestyle='--')\n",
    "    ax1.axvline(x=outgrowth_max[t], linestyle='-.', color='blue')\n",
    "    ax1.axvline(x=switchpoint_mean[t], linestyle='-.', color='red')    \n",
    "\n",
    "    plot_create(t)\n",
    "    ax1.clear()              "
   ]
  }
 ],
 "metadata": {
  "kernelspec": {
   "display_name": "Python 3",
   "language": "python",
   "name": "python3"
  },
  "language_info": {
   "codemirror_mode": {
    "name": "ipython",
    "version": 3
   },
   "file_extension": ".py",
   "mimetype": "text/x-python",
   "name": "python",
   "nbconvert_exporter": "python",
   "pygments_lexer": "ipython3",
   "version": "3.9.1"
  }
 },
 "nbformat": 4,
 "nbformat_minor": 1
}
