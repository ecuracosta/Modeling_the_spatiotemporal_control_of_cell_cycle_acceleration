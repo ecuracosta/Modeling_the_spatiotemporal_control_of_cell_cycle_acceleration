{
 "cells": [
  {
   "cell_type": "code",
   "execution_count": 1,
   "metadata": {},
   "outputs": [],
   "source": [
    "import os\n",
    "import pandas as pd\n",
    "import numpy as np\n",
    "from scipy import stats\n",
    "import matplotlib.pyplot as plt\n",
    "plt.style.use('ggplot')\n",
    "%matplotlib inline"
   ]
  },
  {
   "cell_type": "code",
   "execution_count": 2,
   "metadata": {},
   "outputs": [],
   "source": [
    "exp_time = [0, 2, 3, 4, 6, 8]*24\n",
    "exp_outgrowth = [0, 60, 160, 450, 1280, 2260]\n",
    "exp_outgrowth_err = [0, 10, 20, 40, 60, 70]"
   ]
  },
  {
   "cell_type": "code",
   "execution_count": 3,
   "metadata": {},
   "outputs": [],
   "source": [
    "root = '/home/ecuracosta/Desktop/MS/Simulations/Models/Skip-Shrink/'\n",
    "os.chdir(root)\n",
    "\n",
    "n0 = 205    # Number of cells after amputation\n",
    "rl = -1045  # Recruitment limit\n",
    "tv_array = np.arange(0,3*24+1,1)\n",
    "\n",
    "dt_u = 1\n",
    "penalty = 1\n",
    "\n",
    "heatmap = pd.DataFrame(index=[n0],columns=tv_array)\n",
    "\n",
    "for tv in tv_array:\n",
    "    df_all = []\n",
    "    parameters_set = \"n0=\"+str(n0)+\"_rl=\"+str(rl)+\"_tv=\"+str(tv)\n",
    "    files = os.listdir(parameters_set+'/Outgrowth')\n",
    "    for seed in files:\n",
    "        opened_file = open(parameters_set+'/Outgrowth'+\"/\"+seed)\n",
    "        df0 = pd.read_csv(opened_file, delimiter=',')\n",
    "        outgrowth = df0['outgrowth']*13.2\n",
    "        df_all.append(outgrowth)\n",
    "    df_all = pd.concat(df_all, ignore_index=True, axis=1)\n",
    "    df_mean = np.asarray(df_all.mean(axis=1))\n",
    "    df_std = np.asarray(df_all.std(axis=1))\n",
    "    ssqi = []\n",
    "    for outgrowth,error,time in zip(exp_outgrowth,exp_outgrowth_err,exp_time):        \n",
    "        if df_mean[time*24]-dt_u*df_std[time*24] < outgrowth < df_mean[time*24]+dt_u*df_std[time*24]:\n",
    "            ssqi.append(abs(df_mean[time*24]-outgrowth))   \n",
    "        elif df_mean[time*24]-dt_u*df_std[time*24] < outgrowth-error < df_mean[time*24]+dt_u*df_std[time*24]:\n",
    "            ssqi.append(abs(df_mean[time*24]-outgrowth))  \n",
    "        elif df_mean[time*24]-dt_u*df_std[time*24] < outgrowth+error < df_mean[time*24]+dt_u*df_std[time*24]:\n",
    "            ssqi.append(abs(df_mean[time*24]-outgrowth))\n",
    "        else:\n",
    "            ssqi.append(abs(df_mean[time*24]-outgrowth)*penalty)\n",
    "    ssq = sum(ssqi)\n",
    "    heatmap[tv] = ssq"
   ]
  },
  {
   "cell_type": "code",
   "execution_count": 4,
   "metadata": {},
   "outputs": [
    {
     "data": {
      "text/html": [
       "<div>\n",
       "<style scoped>\n",
       "    .dataframe tbody tr th:only-of-type {\n",
       "        vertical-align: middle;\n",
       "    }\n",
       "\n",
       "    .dataframe tbody tr th {\n",
       "        vertical-align: top;\n",
       "    }\n",
       "\n",
       "    .dataframe thead th {\n",
       "        text-align: right;\n",
       "    }\n",
       "</style>\n",
       "<table border=\"1\" class=\"dataframe\">\n",
       "  <thead>\n",
       "    <tr style=\"text-align: right;\">\n",
       "      <th></th>\n",
       "      <th>0</th>\n",
       "      <th>1</th>\n",
       "      <th>2</th>\n",
       "      <th>3</th>\n",
       "      <th>4</th>\n",
       "      <th>5</th>\n",
       "      <th>6</th>\n",
       "      <th>7</th>\n",
       "      <th>8</th>\n",
       "      <th>9</th>\n",
       "      <th>...</th>\n",
       "      <th>63</th>\n",
       "      <th>64</th>\n",
       "      <th>65</th>\n",
       "      <th>66</th>\n",
       "      <th>67</th>\n",
       "      <th>68</th>\n",
       "      <th>69</th>\n",
       "      <th>70</th>\n",
       "      <th>71</th>\n",
       "      <th>72</th>\n",
       "    </tr>\n",
       "  </thead>\n",
       "  <tbody>\n",
       "    <tr>\n",
       "      <th>205</th>\n",
       "      <td>1040.63</td>\n",
       "      <td>1002.944</td>\n",
       "      <td>944.006</td>\n",
       "      <td>914.834</td>\n",
       "      <td>878.666</td>\n",
       "      <td>837.944</td>\n",
       "      <td>865.004</td>\n",
       "      <td>831.41</td>\n",
       "      <td>736.502</td>\n",
       "      <td>734.588</td>\n",
       "      <td>...</td>\n",
       "      <td>533.954</td>\n",
       "      <td>579.44</td>\n",
       "      <td>569.198</td>\n",
       "      <td>598.238</td>\n",
       "      <td>608.402</td>\n",
       "      <td>627.476</td>\n",
       "      <td>615.398</td>\n",
       "      <td>661.268</td>\n",
       "      <td>691.496</td>\n",
       "      <td>658.64</td>\n",
       "    </tr>\n",
       "  </tbody>\n",
       "</table>\n",
       "<p>1 rows × 73 columns</p>\n",
       "</div>"
      ],
      "text/plain": [
       "          0         1        2        3        4        5        6       7   \\\n",
       "205  1040.63  1002.944  944.006  914.834  878.666  837.944  865.004  831.41   \n",
       "\n",
       "          8        9    ...         63      64       65       66       67  \\\n",
       "205  736.502  734.588   ...    533.954  579.44  569.198  598.238  608.402   \n",
       "\n",
       "          68       69       70       71      72  \n",
       "205  627.476  615.398  661.268  691.496  658.64  \n",
       "\n",
       "[1 rows x 73 columns]"
      ]
     },
     "execution_count": 4,
     "metadata": {},
     "output_type": "execute_result"
    }
   ],
   "source": [
    "heatmap"
   ]
  },
  {
   "cell_type": "code",
   "execution_count": 5,
   "metadata": {},
   "outputs": [
    {
     "name": "stdout",
     "output_type": "stream",
     "text": [
      "33\n"
     ]
    }
   ],
   "source": [
    "print(heatmap.min(axis=0).idxmin())"
   ]
  },
  {
   "cell_type": "code",
   "execution_count": 6,
   "metadata": {},
   "outputs": [
    {
     "data": {
      "text/plain": [
       "322.6059999999994"
      ]
     },
     "execution_count": 6,
     "metadata": {},
     "output_type": "execute_result"
    }
   ],
   "source": [
    "heatmap.min(axis=0)[33]"
   ]
  },
  {
   "cell_type": "code",
   "execution_count": null,
   "metadata": {},
   "outputs": [],
   "source": []
  }
 ],
 "metadata": {
  "kernelspec": {
   "display_name": "Python 3",
   "language": "python",
   "name": "python3"
  },
  "language_info": {
   "codemirror_mode": {
    "name": "ipython",
    "version": 3
   },
   "file_extension": ".py",
   "mimetype": "text/x-python",
   "name": "python",
   "nbconvert_exporter": "python",
   "pygments_lexer": "ipython3",
   "version": "3.7.2"
  }
 },
 "nbformat": 4,
 "nbformat_minor": 2
}
