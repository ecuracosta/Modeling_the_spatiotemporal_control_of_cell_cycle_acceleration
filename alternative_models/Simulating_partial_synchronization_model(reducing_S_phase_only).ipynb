{
 "cells": [
  {
   "cell_type": "code",
   "execution_count": 1,
   "metadata": {},
   "outputs": [],
   "source": [
    "import numpy as np\n",
    "import os,sys\n",
    "import pandas as pd\n",
    "import time"
   ]
  },
  {
   "cell_type": "code",
   "execution_count": 2,
   "metadata": {},
   "outputs": [],
   "source": [
    "def cellDivisions(tm,td,ts,stem,rl,positions):\n",
    "    global n\n",
    "    for dividingCell in range(0,n):\n",
    "        tc = ts - tm[dividingCell]\n",
    "        tr = td[dividingCell] - tc\n",
    "        if (dividingCell-n0)*13.2 > rl and ts == 24:    # Pulse\n",
    "            M_G2 = np.random.normal(9,6)\n",
    "            S_noSkip = np.random.normal(88,9)\n",
    "            S_skip = np.random.normal(91,9)\n",
    "            G1_noSkip = np.random.normal(22,19)\n",
    "            G1_skip = np.random.normal(130,19)\n",
    "            if tr > M_G2+S_noSkip:    # si estoy en G2/M o S la dejo continuar\n",
    "                if M_G2+S_noSkip <= tr < M_G2+S_noSkip+S_skip:        # en el skip de fase S\n",
    "                    td[dividingCell] = M_G2+S_noSkip     # la saco del skip\n",
    "                    tm[dividingCell] = ts\n",
    "                elif M_G2+S_noSkip+S_skip <= tr < M_G2+S_noSkip+S_skip+G1_noSkip:      # en fase G1\n",
    "                    td[dividingCell] = td[dividingCell]-S_skip         # acorto el ciclo restando el skip de fase S\n",
    "                else:     # en el skip de fase G1\n",
    "                    td[dividingCell] = td[dividingCell]-S_skip\n",
    "            stem[dividingCell] = True\n",
    "        if tr < 1/3600:\n",
    "            tm[dividingCell] = ts\n",
    "            tm = np.insert(tm,dividingCell,ts)\n",
    "            tm = tm[:-1]            \n",
    "            n = n+1\n",
    "            positions = np.insert(positions,dividingCell,-1)\n",
    "            if stem[dividingCell]:\n",
    "                td[dividingCell] = np.random.normal(119, 10)\n",
    "                td = np.insert(td,dividingCell,np.random.normal(119, 10))\n",
    "                td = td[:-1]\n",
    "                stem = np.insert(stem,dividingCell,True)\n",
    "                stem = stem[:-1]\n",
    "            else:\n",
    "                td[dividingCell] = np.random.normal(340, 32)\n",
    "                td = np.insert(td,dividingCell,np.random.normal(340, 32))\n",
    "                td = td[:-1]\n",
    "                stem = np.insert(stem,dividingCell,False)\n",
    "                stem = stem[:-1]                \n",
    "    return tm,td,stem,positions"
   ]
  },
  {
   "cell_type": "code",
   "execution_count": 3,
   "metadata": {},
   "outputs": [],
   "source": [
    "def run(steps,tm,td,stem,rl,positions):\n",
    "    global n\n",
    "    outgrowth = []\n",
    "    tracking = []\n",
    "    tracking.append(positions)\n",
    "    for ts in range(0,steps+1,1):\n",
    "        tm,td,stem,positions = cellDivisions(tm,td,ts,stem,rl,positions)\n",
    "        outgrowth.append(n-n0)    # Appends the outgrowth for each time\n",
    "        tracking.append(positions)\n",
    "    return outgrowth,tracking"
   ]
  },
  {
   "cell_type": "code",
   "execution_count": 4,
   "metadata": {},
   "outputs": [
    {
     "name": "stdout",
     "output_type": "stream",
     "text": [
      "n0: 205\n",
      "rl: -1045\n",
      "tv: 31\n",
      "Total time: 8.11110234260559 seconds <--\n"
     ]
    }
   ],
   "source": [
    "root = '/home/ecuracosta/Desktop/MS/Simulations/Phases/Skip-Skip/Only_S/'\n",
    "os.chdir(root)\n",
    "\n",
    "start_time = time.time() \n",
    "\n",
    "emptySpace = 250\n",
    "steps = 24*8    # Number of steaps (in hours)\n",
    "n0 = 205    # Number of cells after amputation\n",
    "rl = -1045    # Recruitment limit\n",
    "tv = 31\n",
    "\n",
    "lattice = n0+emptySpace\n",
    "folder = 'n0='+str(n0)+'_rl='+str(rl)+'_tv='+str(tv)\n",
    "os.makedirs(folder)\n",
    "print('n0:',n0)\n",
    "print('rl:',rl)\n",
    "print('tv:',tv)    \n",
    "\n",
    "for seed in range(0,200):\n",
    "    \n",
    "    n = n0\n",
    "    positions = np.arange(0,n0) \n",
    "    tm = np.random.uniform(-(340-2*32),0,lattice)\n",
    "    td = np.random.normal(340,32,lattice)\n",
    "    stem = np.zeros(lattice)\n",
    "    solution,track = run(steps,tm,td,stem,rl,positions)\n",
    "\n",
    "    d = {\"time\":np.arange(0,steps+1),\"outgrowth\":solution}\n",
    "    df = pd.DataFrame(d)\n",
    "    outfile = open(str(root)+str(folder)+'/'+'sim_seed='+str(seed)+'.csv', 'a')\n",
    "    df.to_csv(outfile, sep=',')\n",
    "    outfile.close()\n",
    "\n",
    "print(\"Total time: %s seconds <--\" % (time.time() - start_time))"
   ]
  },
  {
   "cell_type": "code",
   "execution_count": null,
   "metadata": {},
   "outputs": [],
   "source": []
  }
 ],
 "metadata": {
  "kernelspec": {
   "display_name": "Python 3",
   "language": "python",
   "name": "python3"
  },
  "language_info": {
   "codemirror_mode": {
    "name": "ipython",
    "version": 3
   },
   "file_extension": ".py",
   "mimetype": "text/x-python",
   "name": "python",
   "nbconvert_exporter": "python",
   "pygments_lexer": "ipython3",
   "version": "3.7.2"
  }
 },
 "nbformat": 4,
 "nbformat_minor": 2
}
