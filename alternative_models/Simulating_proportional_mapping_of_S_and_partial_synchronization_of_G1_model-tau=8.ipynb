{
 "cells": [
  {
   "cell_type": "markdown",
   "metadata": {},
   "source": [
    "# Proportional mapping of S and partial synchronization of G1 model"
   ]
  },
  {
   "cell_type": "code",
   "execution_count": 1,
   "metadata": {},
   "outputs": [],
   "source": [
    "# required libraries\n",
    "import numpy as np\n",
    "import os,sys\n",
    "import pandas as pd\n",
    "import time\n",
    "import random"
   ]
  },
  {
   "cell_type": "code",
   "execution_count": 2,
   "metadata": {},
   "outputs": [],
   "source": [
    "long_cell_cycle_length_mean = 340\n",
    "long_cell_cycle_length_std = 32\n",
    "short_cell_cycle_length_mean = 119\n",
    "short_cell_cycle_length_std = 10\n",
    "cell_diameter = 13.2"
   ]
  },
  {
   "cell_type": "code",
   "execution_count": 3,
   "metadata": {},
   "outputs": [],
   "source": [
    "def cellDivisions(tm,td,ts,stem,l,positions,tau):\n",
    "    \n",
    "    # A cell divides when it completes its cell cycle,\n",
    "    # meaning that the time remaining to cell division ('tr') reachs zero.\n",
    "    \n",
    "    global n # current number of cell in the tissue\n",
    "    \n",
    "    for dividingCell in range(0,n):\n",
    "        tc = ts - tm[dividingCell] # 'tc' is elapsed time since last division ('tm'), while 'ts' is the simulation time\n",
    "        tr = td[dividingCell] - tc # 'tr' is the remaining time for cell division, while 'td' is the cell cycle length\n",
    "        if (dividingCell-n0)*cell_diameter > l and ts == tau:    # Pulse\n",
    "            M_G2 = np.random.normal(9,6)\n",
    "            S_noSkip = np.random.normal(88,9)\n",
    "            S_skip = np.random.normal(91,12)#S_skip = np.random.normal(91,30)\n",
    "            G1_noSkip = np.random.normal(22,19)\n",
    "            G1_skip = np.random.normal(130,35)#G1_skip = np.random.normal(130,73)\n",
    "            if tr > M_G2:    \n",
    "            # if in G2/M keeps going\n",
    "                if M_G2 <= tr < M_G2+S_noSkip+S_skip:\n",
    "                # if in S\n",
    "                    td[dividingCell] = M_G2+((tr-M_G2)*S_noSkip)/(S_noSkip+S_skip) # mapping\n",
    "                    tm[dividingCell] = ts\n",
    "                elif M_G2+S_noSkip+S_skip <= tr < M_G2+S_noSkip+S_skip+G1_noSkip:      \n",
    "                # if in G1\n",
    "                    td[dividingCell] = td[dividingCell]-S_skip # shortens cell cycle subtracting S phase skip\n",
    "                else:     \n",
    "                # if in G1 skip\n",
    "                    td[dividingCell] = M_G2+S_noSkip+G1_noSkip # avoids G1 skip and subtracts S phase skip\n",
    "                    tm[dividingCell] = ts\n",
    "            stem[dividingCell] = True   # if the cell is recruited cell is marked as \"stem\"\n",
    "        if tr <= 0:\n",
    "        # if the cell completes its cell cycle, duplicates all cell properties array\n",
    "            tm[dividingCell] = ts\n",
    "            tm = np.insert(tm,dividingCell,ts)\n",
    "            tm = tm[:-1]            \n",
    "            n = n+1 # increase the current number of cells in the tissue by 1\n",
    "            positions = np.insert(positions,dividingCell,-1)\n",
    "            if stem[dividingCell]:\n",
    "            # daughters of recruited cells are also recruited cells                \n",
    "                td[dividingCell] = np.random.normal(short_cell_cycle_length_mean, short_cell_cycle_length_std)\n",
    "                td = np.insert(td,dividingCell,np.random.normal(short_cell_cycle_length_mean, short_cell_cycle_length_std))\n",
    "                td = td[:-1]\n",
    "                stem = np.insert(stem,dividingCell,True)\n",
    "                stem = stem[:-1]\n",
    "            else:\n",
    "            # daughters of non-recruited cells are also non-recruited cells                \n",
    "                td[dividingCell] = np.random.normal(long_cell_cycle_length_mean, long_cell_cycle_length_std)\n",
    "                td = np.insert(td,dividingCell,np.random.normal(long_cell_cycle_length_mean, long_cell_cycle_length_std))\n",
    "                td = td[:-1]\n",
    "                stem = np.insert(stem,dividingCell,False)\n",
    "                stem = stem[:-1]                \n",
    "    return tm,td,stem,positions"
   ]
  },
  {
   "cell_type": "code",
   "execution_count": 4,
   "metadata": {},
   "outputs": [],
   "source": [
    "def run(steps,tm,td,stem,l,positions,tau):\n",
    "    \n",
    "    # calls 'cellDivisions' each step and makes time goes by\n",
    "\n",
    "    global n\n",
    "    outgrowth = []\n",
    "    tracking = []\n",
    "    tracking.append(positions)\n",
    "    for ts in range(0,steps+1,1):\n",
    "        tm,td,stem,positions = cellDivisions(tm,td,ts,stem,l,positions,tau)\n",
    "        outgrowth.append(n-n0)    # Appends the outgrowth for each time\n",
    "        tracking.append(positions)\n",
    "    return outgrowth,tracking"
   ]
  },
  {
   "cell_type": "code",
   "execution_count": 5,
   "metadata": {},
   "outputs": [
    {
     "name": "stdout",
     "output_type": "stream",
     "text": [
      "n0: 200\n",
      "l: -1050\n",
      "tau: 192\n",
      "-------\n"
     ]
    }
   ],
   "source": [
    "n0 = 200  # Number of cells after amputation\n",
    "l = -1050  # Recruitment limit\n",
    "tau = 24*8 # Delay\n",
    "\n",
    "root = 'simulations/'\n",
    "model = 'mixed/'    \n",
    "folder = 'n0='+str(n0)+'_l='+str(l)+'_tau='+str(tau)+'/'\n",
    "if not os.path.isdir(root+model+folder):\n",
    "    os.makedirs(root+model+folder)\n",
    "    os.makedirs(root+model+folder+'outgrowth/')\n",
    "    os.makedirs(root+model+folder+'trajectories/')\n",
    "    \n",
    "np.random.seed(1)\n",
    "\n",
    "emptySpace = 250\n",
    "lattice = n0+emptySpace\n",
    "steps = 24*8  # Number of steaps (in hours)\n",
    "\n",
    "print('n0:',n0)\n",
    "print('l:',l)\n",
    "print('tau:',tau)\n",
    "print('-------')\n",
    "for seed in range(0,1000):\n",
    "# for each seed reset the number of cells, initialize cell properties, calls run and saves output            \n",
    "    n = n0\n",
    "    positions = np.arange(0,n0) \n",
    "    tm = np.random.uniform(-(long_cell_cycle_length_mean-2*long_cell_cycle_length_std),0,lattice)\n",
    "    td = np.random.normal(long_cell_cycle_length_mean,long_cell_cycle_length_std,lattice)\n",
    "    stem = np.zeros(lattice)\n",
    "    solution,track = run(steps,tm,td,stem,l,positions,tau)\n",
    "\n",
    "    # saves outgrowth\n",
    "    d1 = {\"time\":np.arange(0,steps+1),\"outgrowth\":solution}\n",
    "    df1 = pd.DataFrame(d1)\n",
    "    outfile1 = open(root+model+folder+'outgrowth'+'/'+'sim_seed='+str(seed)+'.csv', 'a')\n",
    "    df1.to_csv(outfile1, sep=',')\n",
    "    outfile1.close()\n",
    "\n",
    "    # saves trajectories\n",
    "    d2 = {\"positions\":track}\n",
    "    df2 = pd.DataFrame(d2)\n",
    "    outfile2 = open(root+model+folder+'trajectories'+'/'+'trajectories_sim_seed='+str(seed)+'.csv', 'a')\n",
    "    df2.to_csv(outfile2, sep=',')\n",
    "    outfile2.close() "
   ]
  }
 ],
 "metadata": {
  "kernelspec": {
   "display_name": "Python 3",
   "language": "python",
   "name": "python3"
  },
  "language_info": {
   "codemirror_mode": {
    "name": "ipython",
    "version": 3
   },
   "file_extension": ".py",
   "mimetype": "text/x-python",
   "name": "python",
   "nbconvert_exporter": "python",
   "pygments_lexer": "ipython3",
   "version": "3.8.0"
  }
 },
 "nbformat": 4,
 "nbformat_minor": 2
}
