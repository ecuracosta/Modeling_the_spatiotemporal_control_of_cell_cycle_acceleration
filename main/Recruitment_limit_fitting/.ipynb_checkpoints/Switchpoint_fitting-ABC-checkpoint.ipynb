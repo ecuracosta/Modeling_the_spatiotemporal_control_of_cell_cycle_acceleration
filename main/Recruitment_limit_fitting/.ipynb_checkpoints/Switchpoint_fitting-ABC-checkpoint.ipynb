{
 "cells": [
  {
   "cell_type": "code",
   "execution_count": 1,
   "metadata": {},
   "outputs": [],
   "source": [
    "# required libraries\n",
    "import os\n",
    "import numpy as np\n",
    "import pandas as pd\n",
    "import matplotlib.pyplot as plt\n",
    "%matplotlib inline\n",
    "from scipy import stats\n",
    "from pyabc import (Distribution, RV, ABCSMC, DiscreteRandomWalkTransition, AdaptivePopulationSize, History)"
   ]
  },
  {
   "cell_type": "code",
   "execution_count": 2,
   "metadata": {},
   "outputs": [],
   "source": [
    "from pyabc.sampler import RedisEvalParallelSampler\n",
    "redis_sampler = RedisEvalParallelSampler(host=\"192.168.4.12\", port=6379)"
   ]
  },
  {
   "cell_type": "code",
   "execution_count": 3,
   "metadata": {},
   "outputs": [],
   "source": [
    "# constants\n",
    "cell_diameter = 13.2 # cell diameter\n",
    "long_g1 = 152            # G1 length in long cycle\n",
    "long_s = 179             # S length in long cycle\n",
    "short_g1 = 22            # G1 length in short cycle\n",
    "short_s = 88             # S length in short cycle                \n",
    "long_g2m = short_g2m = 9 # G2/M length in both, long and short cycle\n",
    "long_cycle_mean = long_g1+long_s+long_g2m      # long cell cycle mean\n",
    "long_cycle_std = 32                            # long cell cycle standar deviation\n",
    "short_cycle_mean = short_g1+short_s+short_g2m  # short cell cycle mean\n",
    "short_cycle_std = 10                           # short cell cycle standar deviation\n",
    "long_g1_proportion = long_g1/long_cycle_mean                 # G1 proportion in the long cell cycle\n",
    "long_s_proportion = long_s/long_cycle_mean                   # S proportion in the long cell cycle\n",
    "long_g2m_proportion = long_g2m/long_cycle_mean               # G2/M proportion in the long cell cycle\n",
    "short_g1_proportion = short_g1/short_cycle_mean              # G1 proportion in the short cell cycle\n",
    "short_s_proportion = short_s/short_cycle_mean                # S proportion in the short cell cycle\n",
    "short_g2m_proportion = short_g2m/short_cycle_mean            # G2/M proportion in the short cell cycle \n",
    "g1_reduction_proportion = (long_g1-short_g1)/long_cycle_mean # proportion of G1 reduction in the long cell cycle\n",
    "s_reduction_proportion = (long_s-short_s)/long_cycle_mean    # proportion of S reduction in the long cell cycle\n",
    "awakeningDelay = 48 # time that will take until a G0 cell enters G1 phase after recruitment"
   ]
  },
  {
   "cell_type": "code",
   "execution_count": 4,
   "metadata": {},
   "outputs": [],
   "source": [
    "def cellsCycling(ts,cells,rl,tau):\n",
    "# a cell divides when it completes its cell cycle,\n",
    "# meaning that the time remaining to cell division ('tr') reachs zero.\n",
    "    cells_that_divide = []\n",
    "    for cell_id in cells.keys():\n",
    "    # go through each cell\n",
    "        if not cells[cell_id]['dormant']:\n",
    "            cells[cell_id]['tc'] += 1 # updates cell cycle position (simulation time dependent)\n",
    "            if cells[cell_id]['td'] == cells[cell_id]['tc']: # checks if cell cycle is completed \n",
    "            # if the cell completes its cell cycle\n",
    "                cells_that_divide.append(cell_id)\n",
    "        else:\n",
    "            if cells[cell_id]['recruited']:\n",
    "                cells[cell_id]['awakeningDelay'] -= 1\n",
    "                if cells[cell_id]['awakeningDelay'] == 0:\n",
    "                    cells[cell_id]['dormant'] = False\n",
    "        if cells[cell_id]['position'] >= rl and ts < tau and not cells[cell_id]['recruited']:\n",
    "        # signal pulse at time tau in lambda microns\n",
    "            cells = cycleShortening(cells,cell_id) # cell recruitment          \n",
    "    cells = updatePositions(cells,cells_that_divide) # cell pushing mechanism        \n",
    "    cells = cellsDivision(cells,cells_that_divide) # cell division\n",
    "    return cells"
   ]
  },
  {
   "cell_type": "code",
   "execution_count": 5,
   "metadata": {},
   "outputs": [],
   "source": [
    "def cycleShortening(cells,cell_id):\n",
    "# cell cycle shortening implementation\n",
    "    cycle_position = cells[cell_id]['tc']\n",
    "    cycle_length = cells[cell_id]['td']\n",
    "    g1_length = int(cycle_length*long_g1_proportion)\n",
    "    g1_reduction = int(cycle_length*g1_reduction_proportion)\n",
    "    s_length = int(cycle_length*long_s_proportion)\n",
    "    s_reduction = int(cycle_length*s_reduction_proportion)\n",
    "    g2m_length = int(cycle_length*long_g2m_proportion)\n",
    "    if 0 <= cycle_position <= g1_reduction:\n",
    "    # cell in the G1 skip\n",
    "        # G1 skipping part 1 (partial synchronization implementation part 1)\n",
    "        cells[cell_id]['tc'] = cycle_position-cycle_position\n",
    "    elif g1_reduction < cycle_position <= g1_length:\n",
    "    # cell in the rest of G1\n",
    "        # G1 skipping part 2 (partial synchronization implementation part 2)\n",
    "        cells[cell_id]['tc'] = cycle_position-g1_reduction\n",
    "    elif g1_length < cycle_position <= g1_length+s_length:\n",
    "    # cell in S phase\n",
    "        # S mapping (proportional mapping implementation)\n",
    "        cells[cell_id]['tc'] = int((cycle_position-g1_length)*((s_length-s_reduction)/s_length)+(g1_length-g1_reduction))\n",
    "    elif g1_length+s_length < cycle_position <= g1_length+s_length+g2m_length+2:\n",
    "    # cell in G2/M\n",
    "        cells[cell_id]['tc'] = cycle_position-g1_reduction-s_reduction\n",
    "    cells[cell_id]['td'] = cycle_length-g1_reduction-s_reduction\n",
    "    cells[cell_id]['recruited'] = True\n",
    "    return cells"
   ]
  },
  {
   "cell_type": "code",
   "execution_count": 6,
   "metadata": {},
   "outputs": [],
   "source": [
    "def updatePositions(cells,cells_that_divide):\n",
    "# cell pushing mechanism implementation\n",
    "    movements = {}\n",
    "    for cell_id in cells.keys():\n",
    "        cell_movement = 0\n",
    "        for divided_cell in cells_that_divide:\n",
    "            if cells[cell_id]['position'] >= cells[divided_cell]['position']:\n",
    "                cell_movement += 1\n",
    "        movements[cell_id] = cell_movement\n",
    "    for cell_id in cells.keys():\n",
    "        cells[cell_id]['position'] = cells[cell_id]['position']+movements[cell_id]*cell_diameter\n",
    "    return cells"
   ]
  },
  {
   "cell_type": "code",
   "execution_count": 7,
   "metadata": {},
   "outputs": [],
   "source": [
    "def cellsDivision(cells,cells_that_divide):\n",
    "# creates new cells based on mothers properties\n",
    "    for cell_id in cells_that_divide:\n",
    "        cells[cell_id]['tc'] = 0\n",
    "        daughter_id = len(cells)\n",
    "        if cells[cell_id]['recruited']:\n",
    "        # daughters of recruited cells are also recruited cells\n",
    "            cells[cell_id]['td'] = lognormal(short_cycle_mean,short_cycle_std)\n",
    "            cells[daughter_id] = {'tc':0,\n",
    "                                  'td':lognormal(short_cycle_mean,short_cycle_std),\n",
    "                                  'recruited':True,\n",
    "                                  'position':cells[cell_id]['position']-cell_diameter,\n",
    "                                  'dormant':False,\n",
    "                                  'awakeningDelay':0}\n",
    "        else:\n",
    "        # daughters of non-recruited cells are also non-recruited cells \n",
    "            cells[cell_id]['td'] = lognormal(long_cycle_mean,long_cycle_std)\n",
    "            cells[daughter_id] = {'tc':0,\n",
    "                                  'td':lognormal(long_cycle_mean,long_cycle_std),\n",
    "                                  'recruited':False,\n",
    "                                  'position':cells[cell_id]['position']-cell_diameter,\n",
    "                                  'dormant':False,\n",
    "                                  'awakeningDelay':0}\n",
    "    return cells"
   ]
  },
  {
   "cell_type": "code",
   "execution_count": 8,
   "metadata": {},
   "outputs": [],
   "source": [
    "def seventies_distribution(td,p):\n",
    "    x = np.arange(0,td+1)\n",
    "    f = 2**(1-(x*p)/td)\n",
    "    fn = f/f.sum()   # normalization\n",
    "    tc = np.random.choice(x, p=fn)\n",
    "    return tc"
   ]
  },
  {
   "cell_type": "code",
   "execution_count": 9,
   "metadata": {},
   "outputs": [],
   "source": [
    "def lognormal(mu_x,dt_x,size=1,integer=True):\n",
    "# default function call draw one value from a discretized lognormal distribution\n",
    "    mu = np.log(mu_x**2/np.sqrt(mu_x**2+dt_x**2))\n",
    "    sigma = np.sqrt(np.log(1+dt_x**2/mu_x**2))\n",
    "    shape = sigma # Scipy's shape parameter\n",
    "    scale = np.exp(mu) # Scipy's scale parameter\n",
    "    distribution = stats.lognorm.rvs(scale=scale,s=shape,size=size)\n",
    "    if len(distribution) == 1:\n",
    "        if integer:\n",
    "            return int(distribution[0])\n",
    "        else:\n",
    "            return distribution[0]\n",
    "    else:\n",
    "        return distribution"
   ]
  },
  {
   "cell_type": "code",
   "execution_count": 10,
   "metadata": {},
   "outputs": [],
   "source": [
    "def model(pars):\n",
    "# simulation run\n",
    "        \n",
    "    # run parameters\n",
    "    n0 = int(pars[\"n0\"])\n",
    "    l = int(pars[\"l\"])\n",
    "    tau = int(pars[\"tau\"])\n",
    "    \n",
    "    p = 2\n",
    "    g0_prop = 0.12\n",
    "    steps = 1+24*8           # number of steps (in hours)  \n",
    "       \n",
    "    # initial conditions\n",
    "    cells = {}\n",
    "    for cell_id in range(0,n0):\n",
    "        cell_key = cell_id\n",
    "        td = lognormal(long_cycle_mean,long_cycle_std)\n",
    "        tc = seventies_distribution(td,p)\n",
    "        cells[cell_key] = {'td':td, # cell cycle length\n",
    "                           'tc':tc, # cell cycle position\n",
    "                           'position':(cell_key+1-n0)*cell_diameter,\n",
    "                           'recruited':False,\n",
    "                           'dormant':False,\n",
    "                           'awakeningDelay':0}\n",
    "        \n",
    "    g0_cells_number = int(n0*g0_prop)\n",
    "    cells_df = pd.DataFrame.from_dict(cells, orient='index')\n",
    "    g0_cells = cells_df[cells_df['tc'] <= long_g1].sample(g0_cells_number).index\n",
    "    cells_df.loc[g0_cells,'dormant'] = True\n",
    "    cells_df.loc[g0_cells,'awakeningDelay'] = awakeningDelay\n",
    "    cells = cells_df.to_dict(orient='index')\n",
    "\n",
    "    # time iteration\n",
    "    rl = {} # empty simulation output   \n",
    "    ts = 0 # simulation time = 0\n",
    "    for ts in range(0,steps):\n",
    "        signal_pos = ts*(-l/tau)\n",
    "        cells = cellsCycling(ts,cells,signal_pos,tau)\n",
    "        cells_df = pd.DataFrame.from_dict(cells, orient='index')\n",
    "        rl[ts] = cells_df[cells_df['recruited']==False]['position'].max()\n",
    "    return {\"outgrowth\":np.array([rl[4*24],rl[6*24],rl[8*24]])}"
   ]
  },
  {
   "cell_type": "code",
   "execution_count": 11,
   "metadata": {},
   "outputs": [],
   "source": [
    "n0min, n0max = 100, 300\n",
    "lmin, lmax = 500, 1500\n",
    "taumin, taumax = 1, 192"
   ]
  },
  {
   "cell_type": "code",
   "execution_count": 12,
   "metadata": {},
   "outputs": [],
   "source": [
    "parameter_priors = Distribution(n0=RV(\"randint\", n0min, n0max-n0min),\n",
    "                                 l=RV(\"randint\", lmin, lmax-lmin),\n",
    "                               tau=RV(\"randint\", taumin, taumax-taumin))"
   ]
  },
  {
   "cell_type": "code",
   "execution_count": 13,
   "metadata": {},
   "outputs": [],
   "source": [
    "measurement_data = np.array([-794, -641, -261])\n",
    "measurement_errors = np.array([-130, -140, -187])\n",
    "measurement_times = np.array([4, 6, 8])*24"
   ]
  },
  {
   "cell_type": "code",
   "execution_count": 14,
   "metadata": {},
   "outputs": [],
   "source": [
    "# raiz cuadrada de la suma de las diferencias individuales al cuadrado raiz((a-ae)2/errA2 + (b-be)2/errB2 + (c-ce)2/errC2)\n",
    "def distance(simulation, data):\n",
    "    return np.sqrt((data[\"outgrowth\"][0]-simulation[\"outgrowth\"][0])**2/(measurement_errors[0])**2 +\n",
    "                   (data[\"outgrowth\"][1]-simulation[\"outgrowth\"][1])**2/(measurement_errors[1])**2 +\n",
    "                   (data[\"outgrowth\"][2]-simulation[\"outgrowth\"][2])**2/(measurement_errors[2])**2)"
   ]
  },
  {
   "cell_type": "code",
   "execution_count": 15,
   "metadata": {},
   "outputs": [],
   "source": [
    "abc = ABCSMC(models=model,\n",
    "             parameter_priors=parameter_priors,\n",
    "             distance_function=distance,\n",
    "             population_size=1000,\n",
    "             transitions=DiscreteRandomWalkTransition(),\n",
    "             sampler=redis_sampler)"
   ]
  },
  {
   "cell_type": "code",
   "execution_count": 16,
   "metadata": {},
   "outputs": [],
   "source": [
    "db_path = (\"sqlite:///\" + os.path.join(\"./\", \"Switchpoint_fitting-Results.db.db\"))\n",
    "abc.new(db_path, {\"outgrowth\": measurement_data})\n",
    "h = abc.run(minimum_epsilon=0.1, max_nr_populations=21)"
   ]
  }
 ],
 "metadata": {
  "kernelspec": {
   "display_name": "Python 3",
   "language": "python",
   "name": "python3"
  },
  "language_info": {
   "codemirror_mode": {
    "name": "ipython",
    "version": 3
   },
   "file_extension": ".py",
   "mimetype": "text/x-python",
   "name": "python",
   "nbconvert_exporter": "python",
   "pygments_lexer": "ipython3",
   "version": "3.8.5"
  }
 },
 "nbformat": 4,
 "nbformat_minor": 4
}
