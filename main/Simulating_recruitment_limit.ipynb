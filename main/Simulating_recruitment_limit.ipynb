{
 "cells": [
  {
   "cell_type": "markdown",
   "metadata": {},
   "source": [
    "# Switchpoint simulations"
   ]
  },
  {
   "cell_type": "code",
   "execution_count": null,
   "metadata": {},
   "outputs": [],
   "source": [
    "import numpy as np\n",
    "import pandas as pd\n",
    "import os,sys\n",
    "import random\n",
    "import time"
   ]
  },
  {
   "cell_type": "code",
   "execution_count": null,
   "metadata": {},
   "outputs": [],
   "source": [
    "def cellDivisions(tm,td,ts,rl):\n",
    "    global n\n",
    "    for dividingCell in range(0,n):\n",
    "        tc = ts - tm[dividingCell]\n",
    "        tr = td[dividingCell] - tc\n",
    "        if tr < 1/3600:\n",
    "            tm[dividingCell] = ts\n",
    "            tm = np.insert(tm,dividingCell,ts)\n",
    "            tm = tm[:-1]            \n",
    "            n = n+1\n",
    "            td[dividingCell] = np.random.normal(340, 32)\n",
    "            td = np.insert(td,dividingCell,np.random.normal(340, 32))\n",
    "            td = td[:-1]            \n",
    "    return tm,td"
   ]
  },
  {
   "cell_type": "code",
   "execution_count": null,
   "metadata": {},
   "outputs": [],
   "source": [
    "def run(steps,tm,td,rl):\n",
    "    global n\n",
    "    outgrowth = []\n",
    "    for ts in range(0,steps+1,1):\n",
    "        tm,td = cellDivisions(tm,td,ts,rl)\n",
    "        outgrowth.append(n-n0)    # Appends the outgrowth for each time\n",
    "    return outgrowth"
   ]
  },
  {
   "cell_type": "code",
   "execution_count": null,
   "metadata": {},
   "outputs": [],
   "source": [
    "root = '/home/ecuracosta/Desktop/MS/Simulations/Switchpoint_fixing/'\n",
    "os.chdir(root)\n",
    "\n",
    "random.seed(33)\n",
    "\n",
    "start_time = time.time() \n",
    "\n",
    "emptySpace = 250\n",
    "steps = 24*8    # Number of steaps (in hours)\n",
    "n0_array = np.arange(100,301,10)    # Number of cells after amputation\n",
    "rl_array = -np.arange(500,1505,50)    # Recruitment limit\n",
    "tau_array = np.arange(100,301,6)\n",
    "\n",
    "n_array = []\n",
    "for n0 in n0_array:\n",
    "    for rl in rl_array:\n",
    "        n02 = n0+int(round(rl/13.2))\n",
    "        lattice = n02+emptySpace\n",
    "        folder = 'n0='+str(n0)+'_rl='+str(rl)\n",
    "        os.makedirs(folder)\n",
    "        print('n0:',n0)\n",
    "        print('rl:',rl)\n",
    "        print('-------')\n",
    "        for seed in range(0,200):\n",
    "            n = n02\n",
    "            tm = np.random.uniform(-(340-2*32),0,lattice)\n",
    "            td = np.random.normal(340,32,lattice)\n",
    "            solution = run(steps,tm,td,rl)\n",
    "            d = {\"time\":np.arange(0,steps+1),\"outgrowth\":solution}\n",
    "            df = pd.DataFrame(d)\n",
    "            outfile = open(str(root)+str(folder)+'/'+'sim_seed='+str(seed)+'.csv', 'a')\n",
    "            df.to_csv(outfile, sep=',')\n",
    "            outfile.close()\n",
    "print(\"Total time: %s seconds <--\" % (time.time() - start_time))"
   ]
  }
 ],
 "metadata": {
  "kernelspec": {
   "display_name": "Python 3",
   "language": "python",
   "name": "python3"
  },
  "language_info": {
   "codemirror_mode": {
    "name": "ipython",
    "version": 3
   },
   "file_extension": ".py",
   "mimetype": "text/x-python",
   "name": "python",
   "nbconvert_exporter": "python",
   "pygments_lexer": "ipython3",
   "version": "3.7.3"
  }
 },
 "nbformat": 4,
 "nbformat_minor": 2
}
