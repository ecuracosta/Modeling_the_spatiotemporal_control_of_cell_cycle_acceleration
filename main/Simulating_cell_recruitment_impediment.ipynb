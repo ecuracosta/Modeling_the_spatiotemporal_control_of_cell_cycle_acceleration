{
 "cells": [
  {
   "cell_type": "markdown",
   "metadata": {},
   "source": [
    "# Cell recruitment impediment"
   ]
  },
  {
   "cell_type": "code",
   "execution_count": 1,
   "metadata": {},
   "outputs": [],
   "source": [
    "# required libraries\n",
    "import numpy as np\n",
    "import os,sys\n",
    "import pandas as pd\n",
    "import time\n",
    "import random"
   ]
  },
  {
   "cell_type": "code",
   "execution_count": 2,
   "metadata": {},
   "outputs": [],
   "source": [
    "long_cell_cycle_length_mean = 340\n",
    "long_cell_cycle_length_std = 32"
   ]
  },
  {
   "cell_type": "code",
   "execution_count": 3,
   "metadata": {},
   "outputs": [],
   "source": [
    "def cellDivisions(tm,td,ts,stem,positions):\n",
    "    \n",
    "    # A cell divides when it completes its cell cycle,\n",
    "    # meaning that the time remaining to cell division ('tr') reachs zero.\n",
    "    \n",
    "    global n # current number of cell in the tissue\n",
    "    \n",
    "    for dividingCell in range(0,n):\n",
    "    # for each cell in the tissue        \n",
    "        tc = ts - tm[dividingCell] # 'tc' is elapsed time since last division ('tm'), while 'ts' is the simulation time\n",
    "        tr = td[dividingCell] - tc # 'tr' is the remaining time for cell division, while 'td' is the cell cycle length\n",
    "        if tr <= 0:\n",
    "        # if the cell completes its cell cycle, duplicates all cell properties array            \n",
    "            tm[dividingCell] = ts\n",
    "            tm = np.insert(tm,dividingCell,ts)\n",
    "            tm = tm[:-1]            \n",
    "            n = n+1 # increase the current number of cells in the tissue by 1\n",
    "            positions = np.insert(positions,dividingCell,-1)\n",
    "            td[dividingCell] = np.random.normal(long_cell_cycle_length_mean, long_cell_cycle_length_std)\n",
    "            td = np.insert(td,dividingCell,np.random.normal(long_cell_cycle_length_mean, long_cell_cycle_length_std))\n",
    "            td = td[:-1]               \n",
    "    return tm,td,stem,positions"
   ]
  },
  {
   "cell_type": "code",
   "execution_count": 4,
   "metadata": {},
   "outputs": [],
   "source": [
    "def run(steps,tm,td,stem,positions):\n",
    "    \n",
    "    # calls 'cellDivisions' each step and makes time goes by\n",
    "    \n",
    "    global n\n",
    "    outgrowth = []\n",
    "    tracking = []\n",
    "    tracking.append(positions)\n",
    "    for ts in range(0,steps+1,1):\n",
    "        tm,td,stem,positions = cellDivisions(tm,td,ts,stem,positions)\n",
    "        outgrowth.append(n-n0)    # Appends the outgrowth for each time\n",
    "        tracking.append(positions)\n",
    "    return outgrowth,tracking"
   ]
  },
  {
   "cell_type": "code",
   "execution_count": 5,
   "metadata": {},
   "outputs": [
    {
     "name": "stdout",
     "output_type": "stream",
     "text": [
      "n0: 200\n",
      "-------\n"
     ]
    }
   ],
   "source": [
    "n0 = 200  # Number of cells after amputation\n",
    "\n",
    "root = 'simulations/'\n",
    "model = 'impediment/'    \n",
    "folder = 'n0='+str(n0)+'/'\n",
    "if not os.path.isdir(root+model+folder):\n",
    "    os.makedirs(root+model+folder)\n",
    "    os.makedirs(root+model+folder+'outgrowth/')    \n",
    "    \n",
    "np.random.seed(1)\n",
    "\n",
    "emptySpace = 250\n",
    "lattice = n0+emptySpace\n",
    "steps = 24*8  # Number of steaps (in hours)\n",
    "\n",
    "print('n0:',n0)\n",
    "print('-------')\n",
    "for seed in range(0,1000):\n",
    "# for each seed reset the number of cells, initialize cell properties, calls run and saves output    \n",
    "    n = n0\n",
    "    positions = np.arange(0,n0) \n",
    "    tm = np.random.uniform(-(long_cell_cycle_length_mean-2*long_cell_cycle_length_std),0,lattice)\n",
    "    td = np.random.normal(long_cell_cycle_length_mean,long_cell_cycle_length_std,lattice)\n",
    "    stem = np.zeros(lattice)\n",
    "    solution,track = run(steps,tm,td,stem,positions)\n",
    "\n",
    "    d = {\"time\":np.arange(0,steps+1),\"outgrowth\":solution}\n",
    "    df = pd.DataFrame(d)\n",
    "    outfile = open(root+model+folder+'outgrowth'+'/'+'sim_seed='+str(seed)+'.csv', 'a')\n",
    "    df.to_csv(outfile, sep=',')\n",
    "    outfile.close()"
   ]
  }
 ],
 "metadata": {
  "kernelspec": {
   "display_name": "Python 3",
   "language": "python",
   "name": "python3"
  },
  "language_info": {
   "codemirror_mode": {
    "name": "ipython",
    "version": 3
   },
   "file_extension": ".py",
   "mimetype": "text/x-python",
   "name": "python",
   "nbconvert_exporter": "python",
   "pygments_lexer": "ipython3",
   "version": "3.8.0"
  }
 },
 "nbformat": 4,
 "nbformat_minor": 2
}
